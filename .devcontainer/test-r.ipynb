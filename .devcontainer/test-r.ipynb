{
 "cells": [],
 "metadata": {
  "kernelspec": {
   "display_name": "Julia 1.8.5",
   "language": "python",
   "name": "julia-1.8"
  },
  "language_info": {
   "name": "python",
   "version": "3.10.8 | packaged by conda-forge | (main, Nov 22 2022, 08:26:04) [GCC 10.4.0]"
  },
  "orig_nbformat": 4,
  "vscode": {
   "interpreter": {
    "hash": "d4d1e4263499bec80672ea0156c357c1ee493ec2b1c70f0acce89fc37c4a6abe"
   }
  }
 },
 "nbformat": 4,
 "nbformat_minor": 2
}
